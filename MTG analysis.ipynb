{
 "cells": [
  {
   "cell_type": "code",
   "execution_count": 1,
   "metadata": {},
   "outputs": [
    {
     "name": "stdout",
     "output_type": "stream",
     "text": [
      "WARNING:tensorflow:From <ipython-input-1-347ae35731fb>:10: is_gpu_available (from tensorflow.python.framework.test_util) is deprecated and will be removed in a future version.\n",
      "Instructions for updating:\n",
      "Use `tf.config.list_physical_devices('GPU')` instead.\n"
     ]
    },
    {
     "data": {
      "text/plain": [
       "True"
      ]
     },
     "execution_count": 1,
     "metadata": {},
     "output_type": "execute_result"
    }
   ],
   "source": [
    "import pandas as pd\n",
    "import numpy as np\n",
    "import tensorflow as tf\n",
    "import sklearn\n",
    "from tensorflow.keras.preprocessing.text import Tokenizer\n",
    "from tensorflow.keras.preprocessing.sequence import pad_sequences\n",
    "import datetime\n",
    "from sklearn.model_selection import train_test_split\n",
    "from sklearn.preprocessing import StandardScaler\n",
    "tf.test.is_gpu_available()"
   ]
  },
  {
   "cell_type": "markdown",
   "metadata": {},
   "source": [
    "## Load data"
   ]
  },
  {
   "cell_type": "code",
   "execution_count": 2,
   "metadata": {},
   "outputs": [
    {
     "name": "stderr",
     "output_type": "stream",
     "text": [
      "C:\\Users\\Przemyslaw\\.conda\\envs\\mtg\\lib\\site-packages\\IPython\\core\\interactiveshell.py:3063: DtypeWarning: Columns (6,9,12,16,40) have mixed types.Specify dtype option on import or set low_memory=False.\n",
      "  interactivity=interactivity, compiler=compiler, result=result)\n"
     ]
    }
   ],
   "source": [
    "data = pd.read_csv('data/cards.csv')    \n",
    "prices = pd.read_csv('data/prices.csv')\n",
    "\n",
    "pd.options.display.max_columns = data.shape[1] #display option\n",
    "# data.describe(include='all')"
   ]
  },
  {
   "cell_type": "code",
   "execution_count": 3,
   "metadata": {},
   "outputs": [],
   "source": [
    "prices_no_duplicates = prices.drop_duplicates(subset=['uuid'])\n",
    "# prices_no_duplicates.describe(include='all')"
   ]
  },
  {
   "cell_type": "code",
   "execution_count": 4,
   "metadata": {},
   "outputs": [
    {
     "data": {
      "text/plain": [
       "Index(['index', 'id', 'artist', 'asciiName', 'borderColor', 'colorIdentity',\n",
       "       'colorIndicator', 'colors', 'convertedManaCost', 'duelDeck',\n",
       "       'edhrecRank', 'faceConvertedManaCost', 'flavorName', 'flavorText',\n",
       "       'frameEffect', 'frameEffects', 'frameVersion', 'hand', 'hasFoil',\n",
       "       'hasNoDeckLimit', 'hasNonFoil', 'isAlternative', 'isArena', 'isBuyABox',\n",
       "       'isDateStamped', 'isFullArt', 'isMtgo', 'isOnlineOnly', 'isOversized',\n",
       "       'isPaper', 'isPromo', 'isReprint', 'isReserved', 'isStarter',\n",
       "       'isStorySpotlight', 'isTextless', 'isTimeshifted', 'layout',\n",
       "       'leadershipSkills', 'life', 'loyalty', 'manaCost', 'mcmId', 'mcmMetaId',\n",
       "       'mtgArenaId', 'mtgoFoilId', 'mtgoId', 'multiverseId', 'name', 'names',\n",
       "       'number', 'originalText', 'originalType', 'otherFaceIds', 'power',\n",
       "       'printings', 'purchaseUrls', 'rarity', 'scryfallId',\n",
       "       'scryfallIllustrationId', 'scryfallOracleId', 'setCode', 'side',\n",
       "       'subtypes', 'supertypes', 'tcgplayerProductId', 'text', 'toughness',\n",
       "       'type', 'types', 'uuid', 'variations', 'watermark'],\n",
       "      dtype='object')"
      ]
     },
     "execution_count": 4,
     "metadata": {},
     "output_type": "execute_result"
    }
   ],
   "source": [
    "# prices.head()\n",
    "# data.head()\n",
    "data.columns"
   ]
  },
  {
   "cell_type": "code",
   "execution_count": 5,
   "metadata": {},
   "outputs": [],
   "source": [
    "data_merged = pd.merge(data, prices_no_duplicates, on='uuid', how='inner')"
   ]
  },
  {
   "cell_type": "code",
   "execution_count": 6,
   "metadata": {},
   "outputs": [],
   "source": [
    "data_merged.drop_duplicates(subset='name', keep=\"last\", inplace=True)"
   ]
  },
  {
   "cell_type": "markdown",
   "metadata": {},
   "source": [
    "### Include selected features"
   ]
  },
  {
   "cell_type": "code",
   "execution_count": 7,
   "metadata": {},
   "outputs": [],
   "source": [
    "# len(data_merged)\n",
    "data_merged = data_merged[['name', 'text', 'price', 'convertedManaCost']]\n",
    "# print(data_merged.dtypes)"
   ]
  },
  {
   "cell_type": "code",
   "execution_count": 8,
   "metadata": {},
   "outputs": [
    {
     "data": {
      "text/html": [
       "<div>\n",
       "<style scoped>\n",
       "    .dataframe tbody tr th:only-of-type {\n",
       "        vertical-align: middle;\n",
       "    }\n",
       "\n",
       "    .dataframe tbody tr th {\n",
       "        vertical-align: top;\n",
       "    }\n",
       "\n",
       "    .dataframe thead th {\n",
       "        text-align: right;\n",
       "    }\n",
       "</style>\n",
       "<table border=\"1\" class=\"dataframe\">\n",
       "  <thead>\n",
       "    <tr style=\"text-align: right;\">\n",
       "      <th></th>\n",
       "      <th>name</th>\n",
       "      <th>text</th>\n",
       "      <th>price</th>\n",
       "      <th>convertedManaCost</th>\n",
       "    </tr>\n",
       "  </thead>\n",
       "  <tbody>\n",
       "    <tr>\n",
       "      <th>5003</th>\n",
       "      <td>Ali from Cairo</td>\n",
       "      <td>Damage that would reduce your life total to le...</td>\n",
       "      <td>304.95</td>\n",
       "      <td>4.0</td>\n",
       "    </tr>\n",
       "    <tr>\n",
       "      <th>5006</th>\n",
       "      <td>Bazaar of Baghdad</td>\n",
       "      <td>{T}: Draw two cards, then discard three cards.</td>\n",
       "      <td>1499.99</td>\n",
       "      <td>0.0</td>\n",
       "    </tr>\n",
       "    <tr>\n",
       "      <th>5012</th>\n",
       "      <td>City in a Bottle</td>\n",
       "      <td>Whenever one or more other nontoken permanents...</td>\n",
       "      <td>399.95</td>\n",
       "      <td>2.0</td>\n",
       "    </tr>\n",
       "    <tr>\n",
       "      <th>5021</th>\n",
       "      <td>Diamond Valley</td>\n",
       "      <td>{T}, Sacrifice a creature: You gain life equal...</td>\n",
       "      <td>250.99</td>\n",
       "      <td>0.0</td>\n",
       "    </tr>\n",
       "    <tr>\n",
       "      <th>5022</th>\n",
       "      <td>Drop of Honey</td>\n",
       "      <td>At the beginning of your upkeep, destroy the c...</td>\n",
       "      <td>419.96</td>\n",
       "      <td>1.0</td>\n",
       "    </tr>\n",
       "    <tr>\n",
       "      <th>...</th>\n",
       "      <td>...</td>\n",
       "      <td>...</td>\n",
       "      <td>...</td>\n",
       "      <td>...</td>\n",
       "    </tr>\n",
       "    <tr>\n",
       "      <th>34102</th>\n",
       "      <td>Ravages of War</td>\n",
       "      <td>Destroy all lands.</td>\n",
       "      <td>179.92</td>\n",
       "      <td>4.0</td>\n",
       "    </tr>\n",
       "    <tr>\n",
       "      <th>34182</th>\n",
       "      <td>Zodiac Dragon</td>\n",
       "      <td>When Zodiac Dragon is put into your graveyard ...</td>\n",
       "      <td>243.20</td>\n",
       "      <td>9.0</td>\n",
       "    </tr>\n",
       "    <tr>\n",
       "      <th>35944</th>\n",
       "      <td>Grim Tutor</td>\n",
       "      <td>Search your library for a card and put that ca...</td>\n",
       "      <td>231.87</td>\n",
       "      <td>3.0</td>\n",
       "    </tr>\n",
       "    <tr>\n",
       "      <th>39121</th>\n",
       "      <td>Ugin, the Spirit Dragon</td>\n",
       "      <td>[+2]: Ugin, the Spirit Dragon deals 3 damage t...</td>\n",
       "      <td>138.21</td>\n",
       "      <td>8.0</td>\n",
       "    </tr>\n",
       "    <tr>\n",
       "      <th>39818</th>\n",
       "      <td>Richard Garfield, Ph.D.</td>\n",
       "      <td>You may play cards as though they were other c...</td>\n",
       "      <td>259.99</td>\n",
       "      <td>5.0</td>\n",
       "    </tr>\n",
       "  </tbody>\n",
       "</table>\n",
       "<p>90 rows × 4 columns</p>\n",
       "</div>"
      ],
      "text/plain": [
       "                          name  \\\n",
       "5003            Ali from Cairo   \n",
       "5006         Bazaar of Baghdad   \n",
       "5012          City in a Bottle   \n",
       "5021            Diamond Valley   \n",
       "5022             Drop of Honey   \n",
       "...                        ...   \n",
       "34102           Ravages of War   \n",
       "34182            Zodiac Dragon   \n",
       "35944               Grim Tutor   \n",
       "39121  Ugin, the Spirit Dragon   \n",
       "39818  Richard Garfield, Ph.D.   \n",
       "\n",
       "                                                    text    price  \\\n",
       "5003   Damage that would reduce your life total to le...   304.95   \n",
       "5006      {T}: Draw two cards, then discard three cards.  1499.99   \n",
       "5012   Whenever one or more other nontoken permanents...   399.95   \n",
       "5021   {T}, Sacrifice a creature: You gain life equal...   250.99   \n",
       "5022   At the beginning of your upkeep, destroy the c...   419.96   \n",
       "...                                                  ...      ...   \n",
       "34102                                 Destroy all lands.   179.92   \n",
       "34182  When Zodiac Dragon is put into your graveyard ...   243.20   \n",
       "35944  Search your library for a card and put that ca...   231.87   \n",
       "39121  [+2]: Ugin, the Spirit Dragon deals 3 damage t...   138.21   \n",
       "39818  You may play cards as though they were other c...   259.99   \n",
       "\n",
       "       convertedManaCost  \n",
       "5003                 4.0  \n",
       "5006                 0.0  \n",
       "5012                 2.0  \n",
       "5021                 0.0  \n",
       "5022                 1.0  \n",
       "...                  ...  \n",
       "34102                4.0  \n",
       "34182                9.0  \n",
       "35944                3.0  \n",
       "39121                8.0  \n",
       "39818                5.0  \n",
       "\n",
       "[90 rows x 4 columns]"
      ]
     },
     "execution_count": 8,
     "metadata": {},
     "output_type": "execute_result"
    }
   ],
   "source": [
    "data_merged[data_merged.price > 100][['name', 'text', 'price', 'convertedManaCost']]"
   ]
  },
  {
   "cell_type": "markdown",
   "metadata": {},
   "source": [
    "### Zamiania typu na string dla tokenizera"
   ]
  },
  {
   "cell_type": "code",
   "execution_count": 9,
   "metadata": {},
   "outputs": [],
   "source": [
    "data_merged['text'] = data_merged['text'].astype(str)"
   ]
  },
  {
   "cell_type": "markdown",
   "metadata": {},
   "source": [
    "### Tokenizacja"
   ]
  },
  {
   "cell_type": "code",
   "execution_count": 105,
   "metadata": {},
   "outputs": [],
   "source": [
    "vocab_size = 1000 #cannot be too long for lstm layer\n",
    "max_length = data_merged.text.map(lambda x: len(x)).max()\n",
    "# max_length = 100\n",
    "trunc_type='post'\n",
    "padding_type='post'"
   ]
  },
  {
   "cell_type": "code",
   "execution_count": 106,
   "metadata": {},
   "outputs": [],
   "source": [
    "tokenizer = Tokenizer(num_words=vocab_size, oov_token='<OOV>')\n",
    "tokenizer.fit_on_texts(data_merged['text'])\n",
    "sequences = tokenizer.texts_to_sequences(data_merged['text'])"
   ]
  },
  {
   "cell_type": "code",
   "execution_count": 107,
   "metadata": {},
   "outputs": [],
   "source": [
    "# tokenizer.word_index"
   ]
  },
  {
   "cell_type": "markdown",
   "metadata": {},
   "source": [
    "### Padding"
   ]
  },
  {
   "cell_type": "code",
   "execution_count": 108,
   "metadata": {},
   "outputs": [],
   "source": [
    "padded = pad_sequences(sequences, maxlen=max_length, padding=padding_type, truncating=trunc_type)\n",
    "# padded"
   ]
  },
  {
   "cell_type": "markdown",
   "metadata": {},
   "source": [
    "### Attach converted mana cost"
   ]
  },
  {
   "cell_type": "code",
   "execution_count": 109,
   "metadata": {},
   "outputs": [
    {
     "data": {
      "text/plain": [
       "array([[4.],\n",
       "       [4.],\n",
       "       [5.],\n",
       "       ...,\n",
       "       [5.],\n",
       "       [2.],\n",
       "       [5.]])"
      ]
     },
     "execution_count": 109,
     "metadata": {},
     "output_type": "execute_result"
    }
   ],
   "source": [
    "data_merged['convertedManaCost'].to_numpy().reshape(-1, 1)"
   ]
  },
  {
   "cell_type": "code",
   "execution_count": 110,
   "metadata": {},
   "outputs": [],
   "source": [
    "padded = np.append(padded, data_merged['convertedManaCost'].to_numpy().reshape(-1, 1), axis=1)\n",
    "max_length = max_length + 1\n",
    "# padded = data_merged['convertedManaCost'].to_numpy().reshape(-1, 1)\n",
    "# max_length = 1"
   ]
  },
  {
   "cell_type": "markdown",
   "metadata": {},
   "source": [
    "### Preprocess prices"
   ]
  },
  {
   "cell_type": "code",
   "execution_count": 111,
   "metadata": {},
   "outputs": [],
   "source": [
    "# prices.describe()\n",
    "# prices.head()"
   ]
  },
  {
   "cell_type": "code",
   "execution_count": 112,
   "metadata": {},
   "outputs": [],
   "source": [
    "prices_filtered = data_merged['price']"
   ]
  },
  {
   "cell_type": "code",
   "execution_count": 113,
   "metadata": {},
   "outputs": [],
   "source": [
    "prices_np = prices_filtered.to_numpy()"
   ]
  },
  {
   "cell_type": "markdown",
   "metadata": {},
   "source": [
    "### train, test, validation split (80, 10, 10)"
   ]
  },
  {
   "cell_type": "code",
   "execution_count": 114,
   "metadata": {},
   "outputs": [],
   "source": [
    "X_train, X_test, y_train, y_test = train_test_split(padded, prices_np, test_size=0.2)\n",
    "X_test, X_val, y_test, y_val = train_test_split(X_test, y_test, test_size=0.5)"
   ]
  },
  {
   "cell_type": "markdown",
   "metadata": {},
   "source": [
    "### Standarize"
   ]
  },
  {
   "cell_type": "code",
   "execution_count": 115,
   "metadata": {},
   "outputs": [],
   "source": [
    "scaler = StandardScaler()\n",
    "X_train = scaler.fit_transform(X_train)\n",
    "X_test = scaler.transform(X_test)\n",
    "X_val = scaler.transform(X_val)\n",
    "\n",
    "y_scaler = StandardScaler()\n",
    "y_train = y_scaler.fit_transform(y_train.reshape(-1, 1))\n",
    "y_test = y_scaler.transform(y_test.reshape(-1, 1))\n",
    "y_val = y_scaler.transform(y_val.reshape(-1, 1))"
   ]
  },
  {
   "cell_type": "markdown",
   "metadata": {},
   "source": [
    "## Model"
   ]
  },
  {
   "cell_type": "code",
   "execution_count": 122,
   "metadata": {},
   "outputs": [
    {
     "name": "stdout",
     "output_type": "stream",
     "text": [
      "Model: \"sequential_36\"\n",
      "_________________________________________________________________\n",
      "Layer (type)                 Output Shape              Param #   \n",
      "=================================================================\n",
      "embedding_25 (Embedding)     (None, 770, 256)          256000    \n",
      "_________________________________________________________________\n",
      "lstm_34 (LSTM)               (None, 770, 256)          525312    \n",
      "_________________________________________________________________\n",
      "flatten_6 (Flatten)          (None, 197120)            0         \n",
      "_________________________________________________________________\n",
      "dense_87 (Dense)             (None, 1)                 197121    \n",
      "=================================================================\n",
      "Total params: 978,433\n",
      "Trainable params: 978,433\n",
      "Non-trainable params: 0\n",
      "_________________________________________________________________\n"
     ]
    }
   ],
   "source": [
    "model = tf.keras.models.Sequential([\n",
    "#     tf.keras.layers.Embedding(vocab_size, 256, input_length=max_length),\n",
    "#     tf.keras.layers.GlobalAveragePooling1D(),\n",
    "#     tf.keras.layers.LSTM(512, batch_input_shape=(max_length, 1, 1), return_sequences=False),\n",
    "    tf.keras.layers.Embedding(vocab_size, 256, input_length=max_length),\n",
    "    tf.keras.layers.LSTM(256, return_sequences=True),\n",
    "#     tf.keras.layers.SimpleRNN(units=256),\n",
    "#     tf.keras.layers.Dense(512, activation='relu'),\n",
    "#     tf.keras.layers.Dense(512, activation='relu'),\n",
    "#     tf.keras.layers.Dense(512, activation='relu'),\n",
    "#     tf.keras.layers.GlobalAveragePooling1D(),\n",
    "    tf.keras.layers.Flatten(),\n",
    "    tf.keras.layers.Dense(1)\n",
    "])\n",
    "\n",
    "model.summary()"
   ]
  },
  {
   "cell_type": "markdown",
   "metadata": {},
   "source": [
    "### Tensorboard"
   ]
  },
  {
   "cell_type": "code",
   "execution_count": 123,
   "metadata": {},
   "outputs": [],
   "source": [
    "log_dir = \"logs\\\\fit\\\\\" + datetime.datetime.now().strftime(\"%Y%m%d-%H%M%S\")\n",
    "tensorboard_callback = tf.keras.callbacks.TensorBoard(log_dir=log_dir, histogram_freq=1, profile_batch=0)"
   ]
  },
  {
   "cell_type": "code",
   "execution_count": 124,
   "metadata": {},
   "outputs": [],
   "source": [
    "optimizer = tf.keras.optimizers.RMSprop(0.001)\n",
    "model.compile(loss='mse', optimizer=optimizer, metrics=['mae', 'mse'])"
   ]
  },
  {
   "cell_type": "code",
   "execution_count": 125,
   "metadata": {},
   "outputs": [
    {
     "data": {
      "text/plain": [
       "((770,), 770, 1000)"
      ]
     },
     "execution_count": 125,
     "metadata": {},
     "output_type": "execute_result"
    }
   ],
   "source": [
    "X_train[0].shape,max_length, vocab_size"
   ]
  },
  {
   "cell_type": "markdown",
   "metadata": {},
   "source": [
    "### Train"
   ]
  },
  {
   "cell_type": "code",
   "execution_count": 126,
   "metadata": {},
   "outputs": [
    {
     "name": "stdout",
     "output_type": "stream",
     "text": [
      "Train on 16521 samples, validate on 2066 samples\n",
      "Epoch 1/500\n",
      "16521/16521 [==============================] - 47s 3ms/sample - loss: 5.0914 - mae: 0.6559 - mse: 5.0914 - val_loss: 1.0089 - val_mae: 0.8355 - val_mse: 1.0089\n",
      "Epoch 2/500\n",
      "16521/16521 [==============================] - 43s 3ms/sample - loss: 1.7181 - mae: 0.3213 - mse: 1.7181 - val_loss: 0.4418 - val_mae: 0.1347 - val_mse: 0.4418\n",
      "Epoch 3/500\n",
      "16521/16521 [==============================] - 43s 3ms/sample - loss: 1.4046 - mae: 0.2921 - mse: 1.4046 - val_loss: 1.0343 - val_mae: 0.7700 - val_mse: 1.0343\n",
      "Epoch 4/500\n",
      "16521/16521 [==============================] - 43s 3ms/sample - loss: 1.2730 - mae: 0.2390 - mse: 1.2730 - val_loss: 0.4546 - val_mae: 0.1156 - val_mse: 0.4546\n",
      "Epoch 5/500\n",
      "16521/16521 [==============================] - 44s 3ms/sample - loss: 1.1389 - mae: 0.2372 - mse: 1.1389 - val_loss: 0.4484 - val_mae: 0.2089 - val_mse: 0.4484\n",
      "Epoch 6/500\n",
      "16521/16521 [==============================] - 44s 3ms/sample - loss: 1.0546 - mae: 0.1956 - mse: 1.0546 - val_loss: 0.4429 - val_mae: 0.0991 - val_mse: 0.4429\n",
      "Epoch 7/500\n",
      "16521/16521 [==============================] - 44s 3ms/sample - loss: 1.1148 - mae: 0.1922 - mse: 1.1148 - val_loss: 0.4644 - val_mae: 0.1597 - val_mse: 0.4644\n",
      "Epoch 8/500\n",
      "16521/16521 [==============================] - 44s 3ms/sample - loss: 1.0468 - mae: 0.1766 - mse: 1.0468 - val_loss: 0.4609 - val_mae: 0.1511 - val_mse: 0.4609\n",
      "Epoch 9/500\n",
      "16521/16521 [==============================] - 44s 3ms/sample - loss: 1.0414 - mae: 0.1871 - mse: 1.0414 - val_loss: 0.4387 - val_mae: 0.1208 - val_mse: 0.4387\n",
      "Epoch 10/500\n",
      "16521/16521 [==============================] - 43s 3ms/sample - loss: 1.0465 - mae: 0.1916 - mse: 1.0465 - val_loss: 0.4356 - val_mae: 0.1308 - val_mse: 0.4356\n",
      "Epoch 11/500\n",
      "16521/16521 [==============================] - 43s 3ms/sample - loss: 1.0316 - mae: 0.1767 - mse: 1.0316 - val_loss: 0.4346 - val_mae: 0.1633 - val_mse: 0.4346\n",
      "Epoch 12/500\n",
      "16521/16521 [==============================] - 43s 3ms/sample - loss: 1.0048 - mae: 0.1680 - mse: 1.0048 - val_loss: 0.4355 - val_mae: 0.1304 - val_mse: 0.4355\n",
      "Epoch 13/500\n",
      "16521/16521 [==============================] - 43s 3ms/sample - loss: 1.0408 - mae: 0.1913 - mse: 1.0408 - val_loss: 0.4358 - val_mae: 0.1077 - val_mse: 0.4358\n",
      "Epoch 14/500\n",
      "16521/16521 [==============================] - 43s 3ms/sample - loss: 1.0334 - mae: 0.1774 - mse: 1.0334 - val_loss: 0.4334 - val_mae: 0.1827 - val_mse: 0.4334\n",
      "Epoch 15/500\n",
      "16521/16521 [==============================] - 43s 3ms/sample - loss: 1.0177 - mae: 0.1852 - mse: 1.0177 - val_loss: 0.4288 - val_mae: 0.1519 - val_mse: 0.4288\n",
      "Epoch 16/500\n",
      "16521/16521 [==============================] - 43s 3ms/sample - loss: 1.0008 - mae: 0.1650 - mse: 1.0008 - val_loss: 0.4376 - val_mae: 0.1060 - val_mse: 0.4376\n",
      "Epoch 17/500\n",
      "16521/16521 [==============================] - 43s 3ms/sample - loss: 1.0158 - mae: 0.1761 - mse: 1.0158 - val_loss: 0.4267 - val_mae: 0.1135 - val_mse: 0.4267\n",
      "Epoch 18/500\n",
      "16521/16521 [==============================] - 43s 3ms/sample - loss: 0.9985 - mae: 0.1599 - mse: 0.9985 - val_loss: 0.4289 - val_mae: 0.1080 - val_mse: 0.4289\n",
      "Epoch 19/500\n",
      "16521/16521 [==============================] - 43s 3ms/sample - loss: 1.0113 - mae: 0.1791 - mse: 1.0113 - val_loss: 0.4429 - val_mae: 0.2630 - val_mse: 0.4429\n",
      "Epoch 20/500\n",
      "16521/16521 [==============================] - 43s 3ms/sample - loss: 0.9972 - mae: 0.1634 - mse: 0.9972 - val_loss: 0.4343 - val_mae: 0.1190 - val_mse: 0.4343\n",
      "Epoch 21/500\n",
      "16521/16521 [==============================] - 43s 3ms/sample - loss: 0.9990 - mae: 0.1693 - mse: 0.9990 - val_loss: 0.5233 - val_mae: 0.3089 - val_mse: 0.5233\n",
      "Epoch 22/500\n",
      "16521/16521 [==============================] - 43s 3ms/sample - loss: 0.9955 - mae: 0.1648 - mse: 0.9955 - val_loss: 0.4818 - val_mae: 0.2426 - val_mse: 0.4818\n",
      "Epoch 23/500\n",
      "16521/16521 [==============================] - 43s 3ms/sample - loss: 0.9967 - mae: 0.1623 - mse: 0.9967 - val_loss: 0.4461 - val_mae: 0.1338 - val_mse: 0.4461\n",
      "Epoch 24/500\n",
      "16521/16521 [==============================] - 43s 3ms/sample - loss: 1.0219 - mae: 0.1774 - mse: 1.0219 - val_loss: 0.4274 - val_mae: 0.1564 - val_mse: 0.4274\n",
      "Epoch 25/500\n",
      "16521/16521 [==============================] - 43s 3ms/sample - loss: 0.9936 - mae: 0.1619 - mse: 0.9936 - val_loss: 0.4696 - val_mae: 0.3207 - val_mse: 0.4696\n",
      "Epoch 26/500\n",
      "16521/16521 [==============================] - 43s 3ms/sample - loss: 0.9935 - mae: 0.1624 - mse: 0.9935 - val_loss: 0.4245 - val_mae: 0.1338 - val_mse: 0.4245\n",
      "Epoch 27/500\n",
      "16521/16521 [==============================] - 43s 3ms/sample - loss: 0.9974 - mae: 0.1611 - mse: 0.9974 - val_loss: 0.4267 - val_mae: 0.1278 - val_mse: 0.4267\n",
      "Epoch 28/500\n",
      "16521/16521 [==============================] - 43s 3ms/sample - loss: 0.9928 - mae: 0.1565 - mse: 0.9928 - val_loss: 0.4271 - val_mae: 0.1146 - val_mse: 0.4271\n",
      "Epoch 29/500\n",
      "16521/16521 [==============================] - 43s 3ms/sample - loss: 0.9884 - mae: 0.1494 - mse: 0.9884 - val_loss: 0.4252 - val_mae: 0.1802 - val_mse: 0.4252\n",
      "Epoch 30/500\n",
      "16521/16521 [==============================] - 43s 3ms/sample - loss: 0.9893 - mae: 0.1511 - mse: 0.9893 - val_loss: 0.4289 - val_mae: 0.1696 - val_mse: 0.4289\n",
      "Epoch 31/500\n",
      "16521/16521 [==============================] - 43s 3ms/sample - loss: 0.9893 - mae: 0.1502 - mse: 0.9893 - val_loss: 0.4236 - val_mae: 0.1352 - val_mse: 0.4236\n",
      "Epoch 32/500\n",
      "16521/16521 [==============================] - 42s 3ms/sample - loss: 0.9894 - mae: 0.1536 - mse: 0.9894 - val_loss: 0.4279 - val_mae: 0.1570 - val_mse: 0.4279\n",
      "Epoch 33/500\n",
      "16521/16521 [==============================] - 43s 3ms/sample - loss: 0.9893 - mae: 0.1587 - mse: 0.9893 - val_loss: 0.4310 - val_mae: 0.1134 - val_mse: 0.4310\n",
      "Epoch 34/500\n",
      "16521/16521 [==============================] - 43s 3ms/sample - loss: 1.0051 - mae: 0.1666 - mse: 1.0051 - val_loss: 0.4305 - val_mae: 0.1788 - val_mse: 0.4305\n",
      "Epoch 35/500\n",
      "16521/16521 [==============================] - 43s 3ms/sample - loss: 0.9869 - mae: 0.1494 - mse: 0.9869 - val_loss: 0.4901 - val_mae: 0.2569 - val_mse: 0.4901\n",
      "Epoch 36/500\n",
      "16521/16521 [==============================] - 43s 3ms/sample - loss: 0.9918 - mae: 0.1526 - mse: 0.9918 - val_loss: 0.4266 - val_mae: 0.1361 - val_mse: 0.4266\n",
      "Epoch 37/500\n",
      "16521/16521 [==============================] - 43s 3ms/sample - loss: 0.9860 - mae: 0.1565 - mse: 0.9860 - val_loss: 0.4327 - val_mae: 0.1143 - val_mse: 0.4327\n",
      "Epoch 38/500\n",
      "16521/16521 [==============================] - 43s 3ms/sample - loss: 0.9848 - mae: 0.1563 - mse: 0.9848 - val_loss: 0.4293 - val_mae: 0.1766 - val_mse: 0.4293\n",
      "Epoch 39/500\n",
      "16521/16521 [==============================] - 43s 3ms/sample - loss: 0.9850 - mae: 0.1558 - mse: 0.9850 - val_loss: 0.4666 - val_mae: 0.2032 - val_mse: 0.4666\n",
      "Epoch 40/500\n",
      "16521/16521 [==============================] - 43s 3ms/sample - loss: 0.9827 - mae: 0.1543 - mse: 0.9827 - val_loss: 0.4272 - val_mae: 0.1683 - val_mse: 0.4272\n",
      "Epoch 41/500\n",
      "16521/16521 [==============================] - 43s 3ms/sample - loss: 0.9856 - mae: 0.1602 - mse: 0.9856 - val_loss: 0.4545 - val_mae: 0.1623 - val_mse: 0.4545\n",
      "Epoch 42/500\n",
      "16521/16521 [==============================] - 43s 3ms/sample - loss: 0.9796 - mae: 0.1501 - mse: 0.9796 - val_loss: 0.4287 - val_mae: 0.1200 - val_mse: 0.4287\n",
      "Epoch 43/500\n",
      "16521/16521 [==============================] - 43s 3ms/sample - loss: 0.9811 - mae: 0.1545 - mse: 0.9811 - val_loss: 0.4355 - val_mae: 0.1214 - val_mse: 0.4355\n",
      "Epoch 44/500\n",
      "16521/16521 [==============================] - 43s 3ms/sample - loss: 0.9912 - mae: 0.1621 - mse: 0.9912 - val_loss: 0.4702 - val_mae: 0.2111 - val_mse: 0.4702\n",
      "Epoch 45/500\n",
      "16521/16521 [==============================] - 43s 3ms/sample - loss: 0.9762 - mae: 0.1548 - mse: 0.9763 - val_loss: 0.4329 - val_mae: 0.1236 - val_mse: 0.4329\n",
      "Epoch 46/500\n",
      "16521/16521 [==============================] - 43s 3ms/sample - loss: 0.9757 - mae: 0.1449 - mse: 0.9757 - val_loss: 0.4326 - val_mae: 0.1370 - val_mse: 0.4326\n",
      "Epoch 47/500\n",
      "16521/16521 [==============================] - 43s 3ms/sample - loss: 0.9745 - mae: 0.1509 - mse: 0.9745 - val_loss: 0.4380 - val_mae: 0.1239 - val_mse: 0.4380\n",
      "Epoch 48/500\n",
      "16521/16521 [==============================] - 43s 3ms/sample - loss: 0.9821 - mae: 0.1650 - mse: 0.9821 - val_loss: 0.4432 - val_mae: 0.1416 - val_mse: 0.4432\n",
      "Epoch 49/500\n",
      "16521/16521 [==============================] - 43s 3ms/sample - loss: 0.9726 - mae: 0.1554 - mse: 0.9726 - val_loss: 0.4326 - val_mae: 0.1367 - val_mse: 0.4326\n",
      "Epoch 50/500\n",
      "16521/16521 [==============================] - 43s 3ms/sample - loss: 0.9723 - mae: 0.1520 - mse: 0.9723 - val_loss: 0.4452 - val_mae: 0.1380 - val_mse: 0.4452\n",
      "Epoch 51/500\n",
      "16521/16521 [==============================] - 43s 3ms/sample - loss: 0.9702 - mae: 0.1563 - mse: 0.9702 - val_loss: 0.4428 - val_mae: 0.2034 - val_mse: 0.4428\n",
      "Epoch 52/500\n",
      "16521/16521 [==============================] - 43s 3ms/sample - loss: 0.9697 - mae: 0.1537 - mse: 0.9697 - val_loss: 0.4349 - val_mae: 0.1450 - val_mse: 0.4349\n",
      "Epoch 53/500\n",
      "16521/16521 [==============================] - 43s 3ms/sample - loss: 0.9658 - mae: 0.1544 - mse: 0.9658 - val_loss: 0.4535 - val_mae: 0.2384 - val_mse: 0.4535\n",
      "Epoch 54/500\n",
      "16521/16521 [==============================] - 42s 3ms/sample - loss: 0.9669 - mae: 0.1527 - mse: 0.9669 - val_loss: 0.4647 - val_mae: 0.1726 - val_mse: 0.4647\n",
      "Epoch 55/500\n",
      "16521/16521 [==============================] - 43s 3ms/sample - loss: 0.9682 - mae: 0.1533 - mse: 0.9682 - val_loss: 0.4451 - val_mae: 0.1359 - val_mse: 0.4451\n",
      "Epoch 56/500\n",
      "16521/16521 [==============================] - 43s 3ms/sample - loss: 0.9639 - mae: 0.1562 - mse: 0.9639 - val_loss: 0.4420 - val_mae: 0.1714 - val_mse: 0.4420\n",
      "Epoch 57/500\n",
      "16521/16521 [==============================] - 44s 3ms/sample - loss: 0.9641 - mae: 0.1578 - mse: 0.9641 - val_loss: 0.4400 - val_mae: 0.1812 - val_mse: 0.4400\n",
      "Epoch 58/500\n",
      "11264/16521 [===================>..........] - ETA: 13s - loss: 0.5982 - mae: 0.1596 - mse: 0.5982"
     ]
    },
    {
     "ename": "KeyboardInterrupt",
     "evalue": "",
     "output_type": "error",
     "traceback": [
      "\u001b[1;31m---------------------------------------------------------------------------\u001b[0m",
      "\u001b[1;31mKeyboardInterrupt\u001b[0m                         Traceback (most recent call last)",
      "\u001b[1;32m<ipython-input-126-46829dff9ea4>\u001b[0m in \u001b[0;36m<module>\u001b[1;34m\u001b[0m\n\u001b[0;32m      1\u001b[0m \u001b[0mepochs\u001b[0m \u001b[1;33m=\u001b[0m \u001b[1;36m500\u001b[0m\u001b[1;33m\u001b[0m\u001b[1;33m\u001b[0m\u001b[0m\n\u001b[0;32m      2\u001b[0m \u001b[0mbatch_size\u001b[0m \u001b[1;33m=\u001b[0m \u001b[1;36m128\u001b[0m\u001b[1;33m\u001b[0m\u001b[1;33m\u001b[0m\u001b[0m\n\u001b[1;32m----> 3\u001b[1;33m \u001b[0mmodel\u001b[0m\u001b[1;33m.\u001b[0m\u001b[0mfit\u001b[0m\u001b[1;33m(\u001b[0m\u001b[0mX_train\u001b[0m\u001b[1;33m,\u001b[0m \u001b[0my_train\u001b[0m\u001b[1;33m,\u001b[0m \u001b[0mepochs\u001b[0m\u001b[1;33m=\u001b[0m\u001b[0mepochs\u001b[0m\u001b[1;33m,\u001b[0m \u001b[0mcallbacks\u001b[0m\u001b[1;33m=\u001b[0m\u001b[1;33m[\u001b[0m\u001b[0mtensorboard_callback\u001b[0m\u001b[1;33m]\u001b[0m\u001b[1;33m,\u001b[0m \u001b[0mvalidation_data\u001b[0m\u001b[1;33m=\u001b[0m\u001b[1;33m(\u001b[0m\u001b[0mX_val\u001b[0m\u001b[1;33m,\u001b[0m \u001b[0my_val\u001b[0m\u001b[1;33m)\u001b[0m\u001b[1;33m,\u001b[0m \u001b[0mbatch_size\u001b[0m\u001b[1;33m=\u001b[0m\u001b[0mbatch_size\u001b[0m\u001b[1;33m)\u001b[0m\u001b[1;33m\u001b[0m\u001b[1;33m\u001b[0m\u001b[0m\n\u001b[0m",
      "\u001b[1;32m~\\.conda\\envs\\mtg\\lib\\site-packages\\tensorflow_core\\python\\keras\\engine\\training.py\u001b[0m in \u001b[0;36mfit\u001b[1;34m(self, x, y, batch_size, epochs, verbose, callbacks, validation_split, validation_data, shuffle, class_weight, sample_weight, initial_epoch, steps_per_epoch, validation_steps, validation_freq, max_queue_size, workers, use_multiprocessing, **kwargs)\u001b[0m\n\u001b[0;32m    817\u001b[0m         \u001b[0mmax_queue_size\u001b[0m\u001b[1;33m=\u001b[0m\u001b[0mmax_queue_size\u001b[0m\u001b[1;33m,\u001b[0m\u001b[1;33m\u001b[0m\u001b[1;33m\u001b[0m\u001b[0m\n\u001b[0;32m    818\u001b[0m         \u001b[0mworkers\u001b[0m\u001b[1;33m=\u001b[0m\u001b[0mworkers\u001b[0m\u001b[1;33m,\u001b[0m\u001b[1;33m\u001b[0m\u001b[1;33m\u001b[0m\u001b[0m\n\u001b[1;32m--> 819\u001b[1;33m         use_multiprocessing=use_multiprocessing)\n\u001b[0m\u001b[0;32m    820\u001b[0m \u001b[1;33m\u001b[0m\u001b[0m\n\u001b[0;32m    821\u001b[0m   def evaluate(self,\n",
      "\u001b[1;32m~\\.conda\\envs\\mtg\\lib\\site-packages\\tensorflow_core\\python\\keras\\engine\\training_v2.py\u001b[0m in \u001b[0;36mfit\u001b[1;34m(self, model, x, y, batch_size, epochs, verbose, callbacks, validation_split, validation_data, shuffle, class_weight, sample_weight, initial_epoch, steps_per_epoch, validation_steps, validation_freq, max_queue_size, workers, use_multiprocessing, **kwargs)\u001b[0m\n\u001b[0;32m    340\u001b[0m                 \u001b[0mmode\u001b[0m\u001b[1;33m=\u001b[0m\u001b[0mModeKeys\u001b[0m\u001b[1;33m.\u001b[0m\u001b[0mTRAIN\u001b[0m\u001b[1;33m,\u001b[0m\u001b[1;33m\u001b[0m\u001b[1;33m\u001b[0m\u001b[0m\n\u001b[0;32m    341\u001b[0m                 \u001b[0mtraining_context\u001b[0m\u001b[1;33m=\u001b[0m\u001b[0mtraining_context\u001b[0m\u001b[1;33m,\u001b[0m\u001b[1;33m\u001b[0m\u001b[1;33m\u001b[0m\u001b[0m\n\u001b[1;32m--> 342\u001b[1;33m                 total_epochs=epochs)\n\u001b[0m\u001b[0;32m    343\u001b[0m             \u001b[0mcbks\u001b[0m\u001b[1;33m.\u001b[0m\u001b[0mmake_logs\u001b[0m\u001b[1;33m(\u001b[0m\u001b[0mmodel\u001b[0m\u001b[1;33m,\u001b[0m \u001b[0mepoch_logs\u001b[0m\u001b[1;33m,\u001b[0m \u001b[0mtraining_result\u001b[0m\u001b[1;33m,\u001b[0m \u001b[0mModeKeys\u001b[0m\u001b[1;33m.\u001b[0m\u001b[0mTRAIN\u001b[0m\u001b[1;33m)\u001b[0m\u001b[1;33m\u001b[0m\u001b[1;33m\u001b[0m\u001b[0m\n\u001b[0;32m    344\u001b[0m \u001b[1;33m\u001b[0m\u001b[0m\n",
      "\u001b[1;32m~\\.conda\\envs\\mtg\\lib\\site-packages\\tensorflow_core\\python\\keras\\engine\\training_v2.py\u001b[0m in \u001b[0;36mrun_one_epoch\u001b[1;34m(model, iterator, execution_function, dataset_size, batch_size, strategy, steps_per_epoch, num_samples, mode, training_context, total_epochs)\u001b[0m\n\u001b[0;32m    126\u001b[0m         step=step, mode=mode, size=current_batch_size) as batch_logs:\n\u001b[0;32m    127\u001b[0m       \u001b[1;32mtry\u001b[0m\u001b[1;33m:\u001b[0m\u001b[1;33m\u001b[0m\u001b[1;33m\u001b[0m\u001b[0m\n\u001b[1;32m--> 128\u001b[1;33m         \u001b[0mbatch_outs\u001b[0m \u001b[1;33m=\u001b[0m \u001b[0mexecution_function\u001b[0m\u001b[1;33m(\u001b[0m\u001b[0miterator\u001b[0m\u001b[1;33m)\u001b[0m\u001b[1;33m\u001b[0m\u001b[1;33m\u001b[0m\u001b[0m\n\u001b[0m\u001b[0;32m    129\u001b[0m       \u001b[1;32mexcept\u001b[0m \u001b[1;33m(\u001b[0m\u001b[0mStopIteration\u001b[0m\u001b[1;33m,\u001b[0m \u001b[0merrors\u001b[0m\u001b[1;33m.\u001b[0m\u001b[0mOutOfRangeError\u001b[0m\u001b[1;33m)\u001b[0m\u001b[1;33m:\u001b[0m\u001b[1;33m\u001b[0m\u001b[1;33m\u001b[0m\u001b[0m\n\u001b[0;32m    130\u001b[0m         \u001b[1;31m# TODO(kaftan): File bug about tf function and errors.OutOfRangeError?\u001b[0m\u001b[1;33m\u001b[0m\u001b[1;33m\u001b[0m\u001b[1;33m\u001b[0m\u001b[0m\n",
      "\u001b[1;32m~\\.conda\\envs\\mtg\\lib\\site-packages\\tensorflow_core\\python\\keras\\engine\\training_v2_utils.py\u001b[0m in \u001b[0;36mexecution_function\u001b[1;34m(input_fn)\u001b[0m\n\u001b[0;32m     96\u001b[0m     \u001b[1;31m# `numpy` translates Tensors to values in Eager mode.\u001b[0m\u001b[1;33m\u001b[0m\u001b[1;33m\u001b[0m\u001b[1;33m\u001b[0m\u001b[0m\n\u001b[0;32m     97\u001b[0m     return nest.map_structure(_non_none_constant_value,\n\u001b[1;32m---> 98\u001b[1;33m                               distributed_function(input_fn))\n\u001b[0m\u001b[0;32m     99\u001b[0m \u001b[1;33m\u001b[0m\u001b[0m\n\u001b[0;32m    100\u001b[0m   \u001b[1;32mreturn\u001b[0m \u001b[0mexecution_function\u001b[0m\u001b[1;33m\u001b[0m\u001b[1;33m\u001b[0m\u001b[0m\n",
      "\u001b[1;32m~\\.conda\\envs\\mtg\\lib\\site-packages\\tensorflow_core\\python\\eager\\def_function.py\u001b[0m in \u001b[0;36m__call__\u001b[1;34m(self, *args, **kwds)\u001b[0m\n\u001b[0;32m    566\u001b[0m         \u001b[0mxla_context\u001b[0m\u001b[1;33m.\u001b[0m\u001b[0mExit\u001b[0m\u001b[1;33m(\u001b[0m\u001b[1;33m)\u001b[0m\u001b[1;33m\u001b[0m\u001b[1;33m\u001b[0m\u001b[0m\n\u001b[0;32m    567\u001b[0m     \u001b[1;32melse\u001b[0m\u001b[1;33m:\u001b[0m\u001b[1;33m\u001b[0m\u001b[1;33m\u001b[0m\u001b[0m\n\u001b[1;32m--> 568\u001b[1;33m       \u001b[0mresult\u001b[0m \u001b[1;33m=\u001b[0m \u001b[0mself\u001b[0m\u001b[1;33m.\u001b[0m\u001b[0m_call\u001b[0m\u001b[1;33m(\u001b[0m\u001b[1;33m*\u001b[0m\u001b[0margs\u001b[0m\u001b[1;33m,\u001b[0m \u001b[1;33m**\u001b[0m\u001b[0mkwds\u001b[0m\u001b[1;33m)\u001b[0m\u001b[1;33m\u001b[0m\u001b[1;33m\u001b[0m\u001b[0m\n\u001b[0m\u001b[0;32m    569\u001b[0m \u001b[1;33m\u001b[0m\u001b[0m\n\u001b[0;32m    570\u001b[0m     \u001b[1;32mif\u001b[0m \u001b[0mtracing_count\u001b[0m \u001b[1;33m==\u001b[0m \u001b[0mself\u001b[0m\u001b[1;33m.\u001b[0m\u001b[0m_get_tracing_count\u001b[0m\u001b[1;33m(\u001b[0m\u001b[1;33m)\u001b[0m\u001b[1;33m:\u001b[0m\u001b[1;33m\u001b[0m\u001b[1;33m\u001b[0m\u001b[0m\n",
      "\u001b[1;32m~\\.conda\\envs\\mtg\\lib\\site-packages\\tensorflow_core\\python\\eager\\def_function.py\u001b[0m in \u001b[0;36m_call\u001b[1;34m(self, *args, **kwds)\u001b[0m\n\u001b[0;32m    597\u001b[0m       \u001b[1;31m# In this case we have created variables on the first call, so we run the\u001b[0m\u001b[1;33m\u001b[0m\u001b[1;33m\u001b[0m\u001b[1;33m\u001b[0m\u001b[0m\n\u001b[0;32m    598\u001b[0m       \u001b[1;31m# defunned version which is guaranteed to never create variables.\u001b[0m\u001b[1;33m\u001b[0m\u001b[1;33m\u001b[0m\u001b[1;33m\u001b[0m\u001b[0m\n\u001b[1;32m--> 599\u001b[1;33m       \u001b[1;32mreturn\u001b[0m \u001b[0mself\u001b[0m\u001b[1;33m.\u001b[0m\u001b[0m_stateless_fn\u001b[0m\u001b[1;33m(\u001b[0m\u001b[1;33m*\u001b[0m\u001b[0margs\u001b[0m\u001b[1;33m,\u001b[0m \u001b[1;33m**\u001b[0m\u001b[0mkwds\u001b[0m\u001b[1;33m)\u001b[0m  \u001b[1;31m# pylint: disable=not-callable\u001b[0m\u001b[1;33m\u001b[0m\u001b[1;33m\u001b[0m\u001b[0m\n\u001b[0m\u001b[0;32m    600\u001b[0m     \u001b[1;32melif\u001b[0m \u001b[0mself\u001b[0m\u001b[1;33m.\u001b[0m\u001b[0m_stateful_fn\u001b[0m \u001b[1;32mis\u001b[0m \u001b[1;32mnot\u001b[0m \u001b[1;32mNone\u001b[0m\u001b[1;33m:\u001b[0m\u001b[1;33m\u001b[0m\u001b[1;33m\u001b[0m\u001b[0m\n\u001b[0;32m    601\u001b[0m       \u001b[1;31m# Release the lock early so that multiple threads can perform the call\u001b[0m\u001b[1;33m\u001b[0m\u001b[1;33m\u001b[0m\u001b[1;33m\u001b[0m\u001b[0m\n",
      "\u001b[1;32m~\\.conda\\envs\\mtg\\lib\\site-packages\\tensorflow_core\\python\\eager\\function.py\u001b[0m in \u001b[0;36m__call__\u001b[1;34m(self, *args, **kwargs)\u001b[0m\n\u001b[0;32m   2361\u001b[0m     \u001b[1;32mwith\u001b[0m \u001b[0mself\u001b[0m\u001b[1;33m.\u001b[0m\u001b[0m_lock\u001b[0m\u001b[1;33m:\u001b[0m\u001b[1;33m\u001b[0m\u001b[1;33m\u001b[0m\u001b[0m\n\u001b[0;32m   2362\u001b[0m       \u001b[0mgraph_function\u001b[0m\u001b[1;33m,\u001b[0m \u001b[0margs\u001b[0m\u001b[1;33m,\u001b[0m \u001b[0mkwargs\u001b[0m \u001b[1;33m=\u001b[0m \u001b[0mself\u001b[0m\u001b[1;33m.\u001b[0m\u001b[0m_maybe_define_function\u001b[0m\u001b[1;33m(\u001b[0m\u001b[0margs\u001b[0m\u001b[1;33m,\u001b[0m \u001b[0mkwargs\u001b[0m\u001b[1;33m)\u001b[0m\u001b[1;33m\u001b[0m\u001b[1;33m\u001b[0m\u001b[0m\n\u001b[1;32m-> 2363\u001b[1;33m     \u001b[1;32mreturn\u001b[0m \u001b[0mgraph_function\u001b[0m\u001b[1;33m.\u001b[0m\u001b[0m_filtered_call\u001b[0m\u001b[1;33m(\u001b[0m\u001b[0margs\u001b[0m\u001b[1;33m,\u001b[0m \u001b[0mkwargs\u001b[0m\u001b[1;33m)\u001b[0m  \u001b[1;31m# pylint: disable=protected-access\u001b[0m\u001b[1;33m\u001b[0m\u001b[1;33m\u001b[0m\u001b[0m\n\u001b[0m\u001b[0;32m   2364\u001b[0m \u001b[1;33m\u001b[0m\u001b[0m\n\u001b[0;32m   2365\u001b[0m   \u001b[1;33m@\u001b[0m\u001b[0mproperty\u001b[0m\u001b[1;33m\u001b[0m\u001b[1;33m\u001b[0m\u001b[0m\n",
      "\u001b[1;32m~\\.conda\\envs\\mtg\\lib\\site-packages\\tensorflow_core\\python\\eager\\function.py\u001b[0m in \u001b[0;36m_filtered_call\u001b[1;34m(self, args, kwargs)\u001b[0m\n\u001b[0;32m   1609\u001b[0m          if isinstance(t, (ops.Tensor,\n\u001b[0;32m   1610\u001b[0m                            resource_variable_ops.BaseResourceVariable))),\n\u001b[1;32m-> 1611\u001b[1;33m         self.captured_inputs)\n\u001b[0m\u001b[0;32m   1612\u001b[0m \u001b[1;33m\u001b[0m\u001b[0m\n\u001b[0;32m   1613\u001b[0m   \u001b[1;32mdef\u001b[0m \u001b[0m_call_flat\u001b[0m\u001b[1;33m(\u001b[0m\u001b[0mself\u001b[0m\u001b[1;33m,\u001b[0m \u001b[0margs\u001b[0m\u001b[1;33m,\u001b[0m \u001b[0mcaptured_inputs\u001b[0m\u001b[1;33m,\u001b[0m \u001b[0mcancellation_manager\u001b[0m\u001b[1;33m=\u001b[0m\u001b[1;32mNone\u001b[0m\u001b[1;33m)\u001b[0m\u001b[1;33m:\u001b[0m\u001b[1;33m\u001b[0m\u001b[1;33m\u001b[0m\u001b[0m\n",
      "\u001b[1;32m~\\.conda\\envs\\mtg\\lib\\site-packages\\tensorflow_core\\python\\eager\\function.py\u001b[0m in \u001b[0;36m_call_flat\u001b[1;34m(self, args, captured_inputs, cancellation_manager)\u001b[0m\n\u001b[0;32m   1690\u001b[0m       \u001b[1;31m# No tape is watching; skip to running the function.\u001b[0m\u001b[1;33m\u001b[0m\u001b[1;33m\u001b[0m\u001b[1;33m\u001b[0m\u001b[0m\n\u001b[0;32m   1691\u001b[0m       return self._build_call_outputs(self._inference_function.call(\n\u001b[1;32m-> 1692\u001b[1;33m           ctx, args, cancellation_manager=cancellation_manager))\n\u001b[0m\u001b[0;32m   1693\u001b[0m     forward_backward = self._select_forward_and_backward_functions(\n\u001b[0;32m   1694\u001b[0m         \u001b[0margs\u001b[0m\u001b[1;33m,\u001b[0m\u001b[1;33m\u001b[0m\u001b[1;33m\u001b[0m\u001b[0m\n",
      "\u001b[1;32m~\\.conda\\envs\\mtg\\lib\\site-packages\\tensorflow_core\\python\\eager\\function.py\u001b[0m in \u001b[0;36mcall\u001b[1;34m(self, ctx, args, cancellation_manager)\u001b[0m\n\u001b[0;32m    543\u001b[0m               \u001b[0minputs\u001b[0m\u001b[1;33m=\u001b[0m\u001b[0margs\u001b[0m\u001b[1;33m,\u001b[0m\u001b[1;33m\u001b[0m\u001b[1;33m\u001b[0m\u001b[0m\n\u001b[0;32m    544\u001b[0m               \u001b[0mattrs\u001b[0m\u001b[1;33m=\u001b[0m\u001b[1;33m(\u001b[0m\u001b[1;34m\"executor_type\"\u001b[0m\u001b[1;33m,\u001b[0m \u001b[0mexecutor_type\u001b[0m\u001b[1;33m,\u001b[0m \u001b[1;34m\"config_proto\"\u001b[0m\u001b[1;33m,\u001b[0m \u001b[0mconfig\u001b[0m\u001b[1;33m)\u001b[0m\u001b[1;33m,\u001b[0m\u001b[1;33m\u001b[0m\u001b[1;33m\u001b[0m\u001b[0m\n\u001b[1;32m--> 545\u001b[1;33m               ctx=ctx)\n\u001b[0m\u001b[0;32m    546\u001b[0m         \u001b[1;32melse\u001b[0m\u001b[1;33m:\u001b[0m\u001b[1;33m\u001b[0m\u001b[1;33m\u001b[0m\u001b[0m\n\u001b[0;32m    547\u001b[0m           outputs = execute.execute_with_cancellation(\n",
      "\u001b[1;32m~\\.conda\\envs\\mtg\\lib\\site-packages\\tensorflow_core\\python\\eager\\execute.py\u001b[0m in \u001b[0;36mquick_execute\u001b[1;34m(op_name, num_outputs, inputs, attrs, ctx, name)\u001b[0m\n\u001b[0;32m     59\u001b[0m     tensors = pywrap_tensorflow.TFE_Py_Execute(ctx._handle, device_name,\n\u001b[0;32m     60\u001b[0m                                                \u001b[0mop_name\u001b[0m\u001b[1;33m,\u001b[0m \u001b[0minputs\u001b[0m\u001b[1;33m,\u001b[0m \u001b[0mattrs\u001b[0m\u001b[1;33m,\u001b[0m\u001b[1;33m\u001b[0m\u001b[1;33m\u001b[0m\u001b[0m\n\u001b[1;32m---> 61\u001b[1;33m                                                num_outputs)\n\u001b[0m\u001b[0;32m     62\u001b[0m   \u001b[1;32mexcept\u001b[0m \u001b[0mcore\u001b[0m\u001b[1;33m.\u001b[0m\u001b[0m_NotOkStatusException\u001b[0m \u001b[1;32mas\u001b[0m \u001b[0me\u001b[0m\u001b[1;33m:\u001b[0m\u001b[1;33m\u001b[0m\u001b[1;33m\u001b[0m\u001b[0m\n\u001b[0;32m     63\u001b[0m     \u001b[1;32mif\u001b[0m \u001b[0mname\u001b[0m \u001b[1;32mis\u001b[0m \u001b[1;32mnot\u001b[0m \u001b[1;32mNone\u001b[0m\u001b[1;33m:\u001b[0m\u001b[1;33m\u001b[0m\u001b[1;33m\u001b[0m\u001b[0m\n",
      "\u001b[1;31mKeyboardInterrupt\u001b[0m: "
     ]
    }
   ],
   "source": [
    "epochs = 500\n",
    "batch_size = 128\n",
    "model.fit(X_train, y_train, epochs=epochs, callbacks=[tensorboard_callback], validation_data=(X_val, y_val), batch_size=batch_size)"
   ]
  },
  {
   "cell_type": "markdown",
   "metadata": {},
   "source": [
    "### read some value"
   ]
  },
  {
   "cell_type": "code",
   "execution_count": null,
   "metadata": {},
   "outputs": [],
   "source": [
    "reverse_word_index = dict([(value, key) for (key, value) in tokenizer.word_index.items()])\n",
    "def decode_sentence(text):\n",
    "    text = scaler.inverse_transform(text)\n",
    "    return ' '.join([reverse_word_index.get(i, '?') for i in text])\n",
    "\n",
    "def decode_price(val):\n",
    "    return y_scaler.inverse_transform(val)"
   ]
  },
  {
   "cell_type": "code",
   "execution_count": null,
   "metadata": {},
   "outputs": [],
   "source": [
    "for i in range(100):\n",
    "    price = decode_price(y_train[i])\n",
    "    if price > 1:\n",
    "        print(i)\n",
    "        print(decode_price(y_train[i]))"
   ]
  },
  {
   "cell_type": "code",
   "execution_count": null,
   "metadata": {},
   "outputs": [],
   "source": [
    "print(decode_sentence(X_train[70]))"
   ]
  },
  {
   "cell_type": "code",
   "execution_count": null,
   "metadata": {},
   "outputs": [],
   "source": [
    "data_merged[data_merged['name'].str.contains(\"Zur the Enchanter\")]"
   ]
  },
  {
   "cell_type": "code",
   "execution_count": null,
   "metadata": {},
   "outputs": [],
   "source": []
  }
 ],
 "metadata": {
  "kernelspec": {
   "display_name": "Python 3.7.7 64-bit ('mtg': conda)",
   "language": "python",
   "name": "python37764bitmtgcondae2b5f377204341fc883f004257b95f47"
  },
  "language_info": {
   "codemirror_mode": {
    "name": "ipython",
    "version": 3
   },
   "file_extension": ".py",
   "mimetype": "text/x-python",
   "name": "python",
   "nbconvert_exporter": "python",
   "pygments_lexer": "ipython3",
   "version": "3.7.7"
  }
 },
 "nbformat": 4,
 "nbformat_minor": 4
}
